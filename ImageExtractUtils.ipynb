{
 "cells": [
  {
   "cell_type": "code",
   "execution_count": 33,
   "metadata": {},
   "outputs": [],
   "source": [
    "import pandas as pd\n",
    "import os\n",
    "import cv2\n",
    "import numpy as np\n",
    "from PIL import Image\n",
    "import pickle"
   ]
  },
  {
   "cell_type": "markdown",
   "metadata": {},
   "source": [
    "### Pre-Processing to get images database"
   ]
  },
  {
   "cell_type": "code",
   "execution_count": 3,
   "metadata": {},
   "outputs": [],
   "source": [
    "# Read images from a folder, and return a list of images\n",
    "def readFolderImages(folderName):\n",
    "    images = []\n",
    "    for url in os.listdir(folderName):\n",
    "        longUrl = folderName + '/' + url\n",
    "        currentImage = readImageFromUrl(longUrl)\n",
    "        images.append(currentImage)\n",
    "        \n",
    "    return images"
   ]
  },
  {
   "cell_type": "code",
   "execution_count": 4,
   "metadata": {},
   "outputs": [],
   "source": [
    "# Read an image with OpenCV\n",
    "def readImageFromUrl(url):\n",
    "    return cv2.imread(url)"
   ]
  },
  {
   "cell_type": "code",
   "execution_count": 5,
   "metadata": {},
   "outputs": [],
   "source": [
    "# Return true if an image has the right dimension\n",
    "def keepImgRightSize(img,resolution):\n",
    "    if max(img.shape[:2]) >= resolution[0]:\n",
    "        if min(img.shape[:2]) >= resolution[1]:\n",
    "            return True\n",
    "        else:\n",
    "            return False\n",
    "    else:\n",
    "        return False\n",
    "        \n",
    "        "
   ]
  },
  {
   "cell_type": "code",
   "execution_count": 6,
   "metadata": {},
   "outputs": [],
   "source": [
    "# Rescale an image if necessary(get the right shape)\n",
    "def rescaleCVImageToResolution(img, resolution, interpolation = cv2.INTER_CUBIC):\n",
    "    realResolution = (resolution[1], resolution[0])\n",
    "    return cv2.resize(img, dsize=realResolution, interpolation= interpolation)"
   ]
  },
  {
   "cell_type": "code",
   "execution_count": 7,
   "metadata": {},
   "outputs": [],
   "source": [
    "# Rotate an image if necessary(get the right shape)\n",
    "def rotateImgIfNecessary(img):\n",
    "    if img.shape[0] > img.shape[1]:\n",
    "        return np.transpose(img, axes=(1,0,2))\n",
    "    else:\n",
    "        return img"
   ]
  },
  {
   "cell_type": "code",
   "execution_count": 8,
   "metadata": {},
   "outputs": [],
   "source": [
    "# Image to Vector\n",
    "def reshapeImageToVector(image):\n",
    "    return np.reshape(image, (1,-1))"
   ]
  },
  {
   "cell_type": "code",
   "execution_count": 30,
   "metadata": {},
   "outputs": [],
   "source": [
    "# return Images reshpaed correcly \n",
    "def getImagesFromFolderWithMinimumResolution(url, resolution):\n",
    "    images = readFolderImages(url)\n",
    "    return [reshapeImageToVector(rescaleCVImageToResolution(rotateImgIfNecessary(img),resolution)) for img in images if keepImgRightSize(img, resolution)]\n",
    "    "
   ]
  },
  {
   "cell_type": "code",
   "execution_count": 31,
   "metadata": {},
   "outputs": [],
   "source": [
    "images = getNumpyImagesFromFolderWithMinimumResolution('flowers/rose', [180, 240])"
   ]
  },
  {
   "cell_type": "code",
   "execution_count": 36,
   "metadata": {},
   "outputs": [],
   "source": [
    "# Save images as pkl\n",
    "def saveImageListToPickle(images, toUrl, toName):\n",
    "    if not os.path.exists(toUrl):\n",
    "        os.makedirs(toUrl)        \n",
    "    with open(toUrl+'/'+toName+'.pkl', 'wb') as f:\n",
    "        pickle.dump(images, f)"
   ]
  },
  {
   "cell_type": "code",
   "execution_count": 38,
   "metadata": {},
   "outputs": [],
   "source": [
    "saveImageListToPickle(images, 'Test', 'pusso')"
   ]
  },
  {
   "cell_type": "raw",
   "metadata": {},
   "source": [
    "with open('Test/pusso.pkl', 'rb') as f:\n",
    "    x = pickle.load(f)\n"
   ]
  },
  {
   "cell_type": "code",
   "execution_count": null,
   "metadata": {},
   "outputs": [],
   "source": []
  }
 ],
 "metadata": {
  "kernelspec": {
   "display_name": "Python 3",
   "language": "python",
   "name": "python3"
  },
  "language_info": {
   "codemirror_mode": {
    "name": "ipython",
    "version": 3
   },
   "file_extension": ".py",
   "mimetype": "text/x-python",
   "name": "python",
   "nbconvert_exporter": "python",
   "pygments_lexer": "ipython3",
   "version": "3.6.4"
  }
 },
 "nbformat": 4,
 "nbformat_minor": 2
}
