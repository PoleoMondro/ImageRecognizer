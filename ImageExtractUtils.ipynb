{
 "cells": [
  {
   "cell_type": "code",
   "execution_count": 74,
   "metadata": {},
   "outputs": [],
   "source": [
    "import pandas as pd\n",
    "import os\n",
    "import cv2\n",
    "import numpy as np\n",
    "from PIL import Image\n",
    "import pickle"
   ]
  },
  {
   "cell_type": "markdown",
   "metadata": {},
   "source": [
    "### Pre-Processing to get images database"
   ]
  },
  {
   "cell_type": "code",
   "execution_count": 75,
   "metadata": {},
   "outputs": [],
   "source": [
    "# Read images from a folder(folderName), and return a list of images\n",
    "def readFolderImages(folderName):\n",
    "    images = []\n",
    "    for url in os.listdir(folderName):\n",
    "        longUrl = folderName + '/' + url\n",
    "        currentImage = readImageFromUrl(longUrl)\n",
    "        images.append(currentImage)\n",
    "        \n",
    "    return images"
   ]
  },
  {
   "cell_type": "code",
   "execution_count": 76,
   "metadata": {},
   "outputs": [],
   "source": [
    "# Read an image with OpenCV\n",
    "def readImageFromUrl(url):\n",
    "    return cv2.imread(url)"
   ]
  },
  {
   "cell_type": "code",
   "execution_count": 77,
   "metadata": {},
   "outputs": [],
   "source": [
    "# Return true if an image has the right dimension\n",
    "def keepImgRightSize(img,resolution):\n",
    "    if max(img.shape[:2]) >= resolution[0]:\n",
    "        if min(img.shape[:2]) >= resolution[1]:\n",
    "            return True\n",
    "        else:\n",
    "            return False\n",
    "    else:\n",
    "        return False\n",
    "        \n",
    "        "
   ]
  },
  {
   "cell_type": "code",
   "execution_count": 78,
   "metadata": {},
   "outputs": [],
   "source": [
    "# Rescale an image if necessary(get the right shape)\n",
    "def rescaleCVImageToResolution(img, resolution, interpolation = cv2.INTER_CUBIC):\n",
    "    realResolution = (resolution[1], resolution[0])\n",
    "    return cv2.resize(img, dsize=realResolution, interpolation= interpolation)"
   ]
  },
  {
   "cell_type": "code",
   "execution_count": 79,
   "metadata": {},
   "outputs": [],
   "source": [
    "# Rotate an image if necessary(get the right shape)\n",
    "def rotateImgIfNecessary(img):\n",
    "    if img.shape[0] > img.shape[1]:\n",
    "        return np.transpose(img, axes=(1,0,2))\n",
    "    else:\n",
    "        return img"
   ]
  },
  {
   "cell_type": "code",
   "execution_count": 127,
   "metadata": {},
   "outputs": [],
   "source": [
    "# Image to Vector\n",
    "def reshapeImageToVector(image):\n",
    "    return np.reshape(image, (1,-1))[0]"
   ]
  },
  {
   "cell_type": "code",
   "execution_count": 128,
   "metadata": {},
   "outputs": [],
   "source": [
    "# return Images reshpaed correcly \n",
    "def getImagesFromFolderWithMinimumResolution(url, resolution):\n",
    "    images = readFolderImages(url)\n",
    "    return [reshapeImageToVector(rescaleCVImageToResolution(rotateImgIfNecessary(img),resolution)) for img in images if keepImgRightSize(img, resolution)]\n",
    "    "
   ]
  },
  {
   "cell_type": "code",
   "execution_count": 95,
   "metadata": {},
   "outputs": [],
   "source": [
    "# Save images as pkl\n",
    "def saveImageListToPickle(images, toUrl, toName):\n",
    "    if not os.path.exists(toUrl):\n",
    "        os.makedirs(toUrl)        \n",
    "    with open(toUrl+'/'+toName+'.pkl', 'wb') as f:\n",
    "        pickle.dump(images, f)"
   ]
  },
  {
   "cell_type": "code",
   "execution_count": 194,
   "metadata": {},
   "outputs": [],
   "source": [
    "# Permet de générer tout les pickles de toutes les images contenues dans les dossiers présents dans path\n",
    "def foldersToPickles(path, resolution, dest):\n",
    "    i=0\n",
    "    for url in os.listdir(path):\n",
    "        images = getImagesFromFolderWithMinimumResolution('flowers/tulip', resolution)\n",
    "        saveImageListToPickle(images, 'dataBasePkl', dest+str(i))\n",
    "        i+=1"
   ]
  },
  {
   "cell_type": "raw",
   "metadata": {},
   "source": [
    "with open('Test/pusso.pkl', 'rb') as f:\n",
    "    x = pickle.load(f)\n"
   ]
  },
  {
   "cell_type": "code",
   "execution_count": 168,
   "metadata": {},
   "outputs": [],
   "source": [
    "# A partir d'une liste d'images et un label commun, on retourne un array avec comme premier element le label, \n",
    "# puis l'image\n",
    "def getArrayWithLabels(images, label):\n",
    "    trainSet = np.zeros((len(images), images[0].shape[0]+1))\n",
    "    i = 0\n",
    "    for image in  images:\n",
    "        trainSet[i, 0] = label\n",
    "        trainSet[i,1:] = image\n",
    "        i+=1\n",
    "    return trainSet"
   ]
  },
  {
   "cell_type": "code",
   "execution_count": 212,
   "metadata": {},
   "outputs": [],
   "source": [
    "# Prend en entrée une liste de la forme suivante[(pickle_0,label_1), ..., (pickle_n, label_n)]\n",
    "# Attention, les vecteurs contenus dans les pickle doivent avoir la même taille! Pusso\n",
    "def getTrainSetFromPickles(picklesWithLabels):\n",
    "    i = 0\n",
    "    for pickleFile in picklesWithLabels:\n",
    "        print(i)\n",
    "        with open(pickleFile[0], 'rb') as f:\n",
    "            pick = pickle.load(f)\n",
    "        if i==0:\n",
    "            trainSet = getArrayWithLabels(pick, pickleFile[1])\n",
    "            i +=1\n",
    "        else:\n",
    "            trainSet = np.concatenate((trainSet, getArrayWithLabels(pick, pickleFile[1])))\n",
    "    return trainSet\n",
    "\n",
    "            \n"
   ]
  },
  {
   "cell_type": "markdown",
   "metadata": {},
   "source": [
    "### Création du dataSet"
   ]
  },
  {
   "cell_type": "code",
   "execution_count": 192,
   "metadata": {},
   "outputs": [],
   "source": [
    "resolution = [180, 240]"
   ]
  },
  {
   "cell_type": "code",
   "execution_count": 195,
   "metadata": {},
   "outputs": [],
   "source": [
    "foldersToPickles('flowers', resolution, 'pusso', 'flowers')\n",
    "foldersToPickles('fruits/Training', resolution, 'fruits')"
   ]
  },
  {
   "cell_type": "code",
   "execution_count": 214,
   "metadata": {},
   "outputs": [],
   "source": [
    "testFiles = []\n",
    "for i in range(6):\n",
    "    testFiles.append(('dataBasePkl/flowers'+str(i)+'.pkl', 0))\n",
    "for i in range(82):\n",
    "    testFiles.append(('dataBasePkl/fruits'+str(i)+'.pkl', 1))"
   ]
  },
  {
   "cell_type": "code",
   "execution_count": 215,
   "metadata": {},
   "outputs": [
    {
     "name": "stdout",
     "output_type": "stream",
     "text": [
      "0\n",
      "1\n",
      "1\n",
      "1\n",
      "1\n",
      "1\n",
      "1\n",
      "1\n",
      "1\n",
      "1\n"
     ]
    },
    {
     "ename": "KeyboardInterrupt",
     "evalue": "",
     "output_type": "error",
     "traceback": [
      "\u001b[0;31m---------------------------------------------------------------------------\u001b[0m",
      "\u001b[0;31mKeyboardInterrupt\u001b[0m                         Traceback (most recent call last)",
      "\u001b[0;32m<ipython-input-215-a270b6ada02d>\u001b[0m in \u001b[0;36m<module>\u001b[0;34m()\u001b[0m\n\u001b[0;32m----> 1\u001b[0;31m \u001b[0mtrainData\u001b[0m \u001b[0;34m=\u001b[0m \u001b[0mgetTrainSetFromPickles\u001b[0m\u001b[0;34m(\u001b[0m\u001b[0mtestFiles\u001b[0m\u001b[0;34m)\u001b[0m\u001b[0;34m\u001b[0m\u001b[0m\n\u001b[0m",
      "\u001b[0;32m<ipython-input-212-1ea91d7782cf>\u001b[0m in \u001b[0;36mgetTrainSetFromPickles\u001b[0;34m(picklesWithLabels)\u001b[0m\n\u001b[1;32m     11\u001b[0m             \u001b[0mi\u001b[0m \u001b[0;34m+=\u001b[0m\u001b[0;36m1\u001b[0m\u001b[0;34m\u001b[0m\u001b[0m\n\u001b[1;32m     12\u001b[0m         \u001b[0;32melse\u001b[0m\u001b[0;34m:\u001b[0m\u001b[0;34m\u001b[0m\u001b[0m\n\u001b[0;32m---> 13\u001b[0;31m             \u001b[0mtrainSet\u001b[0m \u001b[0;34m=\u001b[0m \u001b[0mnp\u001b[0m\u001b[0;34m.\u001b[0m\u001b[0mconcatenate\u001b[0m\u001b[0;34m(\u001b[0m\u001b[0;34m(\u001b[0m\u001b[0mtrainSet\u001b[0m\u001b[0;34m,\u001b[0m \u001b[0mgetArrayWithLabels\u001b[0m\u001b[0;34m(\u001b[0m\u001b[0mpick\u001b[0m\u001b[0;34m,\u001b[0m \u001b[0mpickleFile\u001b[0m\u001b[0;34m[\u001b[0m\u001b[0;36m1\u001b[0m\u001b[0;34m]\u001b[0m\u001b[0;34m)\u001b[0m\u001b[0;34m)\u001b[0m\u001b[0;34m)\u001b[0m\u001b[0;34m\u001b[0m\u001b[0m\n\u001b[0m\u001b[1;32m     14\u001b[0m     \u001b[0;32mreturn\u001b[0m \u001b[0mtrainSet\u001b[0m\u001b[0;34m\u001b[0m\u001b[0m\n\u001b[1;32m     15\u001b[0m \u001b[0;34m\u001b[0m\u001b[0m\n",
      "\u001b[0;31mKeyboardInterrupt\u001b[0m: "
     ]
    }
   ],
   "source": [
    "trainData = getTrainSetFromPickles(testFiles)"
   ]
  },
  {
   "cell_type": "code",
   "execution_count": 186,
   "metadata": {},
   "outputs": [
    {
     "data": {
      "text/plain": [
       "(1667, 129601)"
      ]
     },
     "execution_count": 186,
     "metadata": {},
     "output_type": "execute_result"
    }
   ],
   "source": [
    "trainSet.shape\n"
   ]
  },
  {
   "cell_type": "code",
   "execution_count": null,
   "metadata": {},
   "outputs": [],
   "source": []
  },
  {
   "cell_type": "code",
   "execution_count": null,
   "metadata": {},
   "outputs": [],
   "source": []
  },
  {
   "cell_type": "code",
   "execution_count": null,
   "metadata": {},
   "outputs": [],
   "source": []
  }
 ],
 "metadata": {
  "kernelspec": {
   "display_name": "Python 3",
   "language": "python",
   "name": "python3"
  },
  "language_info": {
   "codemirror_mode": {
    "name": "ipython",
    "version": 3
   },
   "file_extension": ".py",
   "mimetype": "text/x-python",
   "name": "python",
   "nbconvert_exporter": "python",
   "pygments_lexer": "ipython3",
   "version": "3.6.4"
  }
 },
 "nbformat": 4,
 "nbformat_minor": 2
}
