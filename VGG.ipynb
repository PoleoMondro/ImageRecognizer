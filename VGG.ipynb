{
 "cells": [
  {
   "cell_type": "markdown",
   "metadata": {},
   "source": [
    "# VGG ARCHITECTURE"
   ]
  },
  {
   "cell_type": "markdown",
   "metadata": {},
   "source": [
    "This notebook implement the VGG architecture for image recognition using CNN.\n",
    "You can find the paper describing this architecture by following the link:\n",
    "https://arxiv.org/pdf/1409.1556.pdf"
   ]
  },
  {
   "cell_type": "markdown",
   "metadata": {},
   "source": [
    "**Here is the global architecture of a VGG network : **\n",
    "<img src=\"images/vgg.png\" style=\"width:470px;height:276px;\">"
   ]
  },
  {
   "cell_type": "code",
   "execution_count": 2,
   "metadata": {},
   "outputs": [
    {
     "name": "stderr",
     "output_type": "stream",
     "text": [
      "/anaconda3/lib/python3.6/site-packages/h5py/__init__.py:36: FutureWarning: Conversion of the second argument of issubdtype from `float` to `np.floating` is deprecated. In future, it will be treated as `np.float64 == np.dtype(float).type`.\n",
      "  from ._conv import register_converters as _register_converters\n"
     ]
    }
   ],
   "source": [
    "import numpy as np\n",
    "import math\n",
    "import tensorflow as tf\n",
    "import matplotlib.pyplot as plt\n",
    "from tensorflow.python.framework import ops"
   ]
  },
  {
   "cell_type": "code",
   "execution_count": 3,
   "metadata": {},
   "outputs": [],
   "source": [
    "def loadFile(fileName):\n",
    "    array = np.load(fileName)\n",
    "    \n",
    "    return array"
   ]
  },
  {
   "cell_type": "code",
   "execution_count": 4,
   "metadata": {},
   "outputs": [],
   "source": [
    "def showImage(inTainSet, atPosition):\n",
    "    img = inTainSet[atPosition,:,:,:]/255.0\n",
    "    plt.imshow(img)"
   ]
  },
  {
   "cell_type": "code",
   "execution_count": 5,
   "metadata": {},
   "outputs": [],
   "source": [
    "trainSet = loadFile('images.npy')\n",
    "labelTrainSet = loadFile('labels.npy')"
   ]
  },
  {
   "cell_type": "code",
   "execution_count": 6,
   "metadata": {},
   "outputs": [],
   "source": [
    "reshapeLabels = labelTrainSet.reshape(labelTrainSet.shape[0], 1)"
   ]
  },
  {
   "cell_type": "code",
   "execution_count": 7,
   "metadata": {},
   "outputs": [
    {
     "data": {
      "image/png": "[encoded data removed]",
      "text/plain": [
       "<Figure size 432x288 with 1 Axes>"
      ]
     },
     "metadata": {},
     "output_type": "display_data"
    }
   ],
   "source": [
    "showImage(inTainSet= trainSet, atPosition=4000)"
   ]
  },
  {
   "cell_type": "markdown",
   "metadata": {},
   "source": [
    "# First step: Pre-processing\n",
    "\n",
    "From the article we need to :\n",
    "\"The only pre-processing we do is substracting the mean RGB value, computed on the training set, from each pixel\""
   ]
  },
  {
   "cell_type": "code",
   "execution_count": 8,
   "metadata": {},
   "outputs": [],
   "source": [
    "def normalize_image(trainingSet):\n",
    "    size = trainingSet.shape[0]*trainingSet.shape[1]*trainingSet.shape[2]*trainingSet.shape[3] #total number of pixel in the training set\n",
    "    accum = 0 #variable to sum all the values\n",
    "    \n",
    "    for im in range(0,trainingSet.shape[0]): #pass throught all images\n",
    "        for row in range(0,trainingSet.shape[1]): #pass throught all rows in the current image\n",
    "            for col in range(0,trainingSet.shape[2]):  #pass throught all column in the current row of the current image \n",
    "                for channel in range(0,trainingSet.shape[3]): #pass throught all channel in the current column of the current row of the current image\n",
    "                    accum += trainingSet[im,row,col,channel]\n",
    "                    \n",
    "    mean = accum / (size) #calculate the mean pixel value of the training set\n",
    "    \n",
    "    for im in range(0,trainingSet.shape[0]):\n",
    "        for row in range(0,trainingSet.shape[1]): \n",
    "            for col in range(0,trainingSet.shape[2]):   \n",
    "                for channel in range(0,trainingSet.shape[3]):\n",
    "                    trainingSet[im,row,col,channel] = trainingSet[im,row,col,channel] - mean # substract the mean value to all pixel of the training set"
   ]
  },
  {
   "cell_type": "code",
   "execution_count": null,
   "metadata": {},
   "outputs": [],
   "source": [
    "normalize_image(trainingSet=trainSet)"
   ]
  },
  {
   "cell_type": "code",
   "execution_count": null,
   "metadata": {},
   "outputs": [],
   "source": [
    "def convert_to_one_hot(Y, C):\n",
    "    Y = np.eye(C)[Y.reshape(-1)].T\n",
    "    return Y"
   ]
  },
  {
   "cell_type": "code",
   "execution_count": null,
   "metadata": {},
   "outputs": [],
   "source": [
    "labelSet = convert_to_one_hot(reshapeLabels.T.astype(np.int32), 200).T"
   ]
  },
  {
   "cell_type": "code",
   "execution_count": 1,
   "metadata": {},
   "outputs": [
    {
     "ename": "NameError",
     "evalue": "name 'labelSet' is not defined",
     "output_type": "error",
     "traceback": [
      "\u001b[0;31m---------------------------------------------------------------------------\u001b[0m",
      "\u001b[0;31mNameError\u001b[0m                                 Traceback (most recent call last)",
      "\u001b[0;32m<ipython-input-1-d2b9d4339678>\u001b[0m in \u001b[0;36m<module>\u001b[0;34m()\u001b[0m\n\u001b[0;32m----> 1\u001b[0;31m \u001b[0mlabelSet\u001b[0m\u001b[0;34m[\u001b[0m\u001b[0;36m0\u001b[0m\u001b[0;34m]\u001b[0m\u001b[0;34m\u001b[0m\u001b[0m\n\u001b[0m",
      "\u001b[0;31mNameError\u001b[0m: name 'labelSet' is not defined"
     ]
    }
   ],
   "source": [
    "labelSet[0]"
   ]
  },
  {
   "cell_type": "code",
   "execution_count": null,
   "metadata": {},
   "outputs": [],
   "source": []
  },
  {
   "cell_type": "code",
   "execution_count": null,
   "metadata": {},
   "outputs": [],
   "source": []
  },
  {
   "cell_type": "code",
   "execution_count": null,
   "metadata": {},
   "outputs": [],
   "source": [
    "showImage(inTainSet= trainSet, atPosition=4000)"
   ]
  },
  {
   "cell_type": "markdown",
   "metadata": {},
   "source": [
    "# Second step: create variables and placeholders"
   ]
  },
  {
   "cell_type": "code",
   "execution_count": null,
   "metadata": {},
   "outputs": [],
   "source": [
    "def create_weights(shape, name):\n",
    "    return tf.get_variable(name=name, shape=shape, initializer= tf.initializers.truncated_normal(stddev=0.05))\n",
    " \n",
    "def create_biases(size, name):\n",
    "    return tf.get_variable(name=name, shape=[size], initializer= tf.zeros_initializer())"
   ]
  },
  {
   "cell_type": "code",
   "execution_count": null,
   "metadata": {},
   "outputs": [],
   "source": [
    "def create_placeholders(img_size, num_channels, num_classes):\n",
    "    \"\"\"\n",
    "    Creates the placeholders for the tensorflow session.\n",
    "    \n",
    "    Arguments:\n",
    "    n_x -- scalar, size of an image vector (num_px * num_px = 64 * 64 * 3 = 12288)\n",
    "    n_y -- scalar, number of classes (from 0 to 199, so -> 200)\n",
    "    \n",
    "    Returns:\n",
    "    X -- placeholder for the data input, of shape [n_x, None] and dtype \"float\"\n",
    "    Y -- placeholder for the input labels, of shape [n_y, None] and dtype \"float\"\n",
    "    \n",
    "    Tips:\n",
    "    - Use None because it let's us be flexible on the number of examples you will for the placeholders.\n",
    "      In fact, the number of examples during test/train is different.\n",
    "    \"\"\"\n",
    "    \n",
    "    X = tf.placeholder(name='X', dtype=tf.float32, shape=[None, img_size,img_size,num_channels])\n",
    "    Y = tf.placeholder(name='Y', dtype=tf.int32, shape=[None, num_classes])\n",
    "\n",
    "    return X, Y"
   ]
  },
  {
   "cell_type": "markdown",
   "metadata": {},
   "source": [
    "# Third step: create convolutionnal layers"
   ]
  },
  {
   "cell_type": "code",
   "execution_count": null,
   "metadata": {},
   "outputs": [],
   "source": [
    "def create_convolutional_layer(input,\n",
    "               num_input_channels, \n",
    "               conv_filter_size,        \n",
    "               num_filters,\n",
    "               layer_number):  \n",
    "    \"\"\"\n",
    "    TF's conv2d function calculates convolutions in batches and uses a slightly different format. \n",
    "    For an input it is [batch, in_height, in_width, in_channels] \n",
    "    For the filter it is [filter_height, filter_width, in_channels, out_channels]\n",
    "    \"\"\"\n",
    "    \n",
    "    ## We shall define the weights that will be trained using create_weights function.\n",
    "    weights = create_weights(name='Wconv_'+layer_number, shape=[conv_filter_size, conv_filter_size, num_input_channels, num_filters])\n",
    "    ## We create biases using the create_biases function. These are also trained.\n",
    "    biases = create_biases(name='Bconv_'+layer_number, size=num_filters)\n",
    " \n",
    "    ## Creating the convolutional layer\n",
    "    layer = tf.nn.conv2d(input=input,\n",
    "                     filter=weights,\n",
    "                     strides=[1, 1, 1, 1],\n",
    "                     padding='SAME')\n",
    " \n",
    "    layer += biases\n",
    " \n",
    "    return layer"
   ]
  },
  {
   "cell_type": "code",
   "execution_count": null,
   "metadata": {},
   "outputs": [],
   "source": [
    "def create_pooling_layer(input, parameters):  \n",
    "\n",
    "    ksize = parameters['size_pooling'] #example [1, 2, 2, 1] corresponding [batch_size, img_size, img_size, number of channel]\n",
    "    strides = parameters['strides_pooling'] #example [1, 2, 2, 1] corresponding [batch_size, img_size, img_size, number of channel]\n",
    "    padding = parameters['padding'] #example 'SAME' or 'VALID'\n",
    "    \n",
    "    ## \"Max-pooling is performed over a 2x2 pixel window, with stride 2\".  \n",
    "    layer = tf.nn.max_pool(value=input,\n",
    "                            ksize=ksize,\n",
    "                            strides=strides,\n",
    "                            padding=padding)\n",
    " \n",
    "    return layer"
   ]
  },
  {
   "cell_type": "code",
   "execution_count": null,
   "metadata": {},
   "outputs": [],
   "source": [
    "def create_activation_layer(input):  \n",
    "    ## \"All hidden layers are equipped with the rectification non-linearity\"\n",
    "    layer = tf.nn.relu(input)\n",
    " \n",
    "    return layer"
   ]
  },
  {
   "cell_type": "markdown",
   "metadata": {},
   "source": [
    "# Fourth step: create fully connected layers"
   ]
  },
  {
   "cell_type": "code",
   "execution_count": null,
   "metadata": {},
   "outputs": [],
   "source": [
    "def create_fully_connected_layer(input, num_input_channels, num_output_channel, layer_number):\n",
    "        \n",
    "    ## We shall define the weights that will be trained using create_weights function.\n",
    "    weights = create_weights(name='Wfc_'+layer_number, shape=[input.shape[1], input.shape[2], num_input_channels, num_output_channel])\n",
    "    ## We create biases using the create_biases function. These are also trained.\n",
    "    biases = create_biases(name='Bfc_'+layer_number, size=num_output_channel)\n",
    "    \n",
    "    layer = tf.nn.conv2d(input=input,\n",
    "                     filter=weights,\n",
    "                     strides=[1, 1, 1, 1],\n",
    "                    padding= 'VALID')\n",
    "    \n",
    "    layer += layer + biases\n",
    "    \n",
    "    return layer"
   ]
  },
  {
   "cell_type": "markdown",
   "metadata": {},
   "source": [
    "# Fifth step: create softmax layer"
   ]
  },
  {
   "cell_type": "code",
   "execution_count": null,
   "metadata": {},
   "outputs": [],
   "source": [
    "def create_softmax_layer(networkOutput, Y):\n",
    "    \"\"\"\n",
    "    Computes the cost\n",
    "    \n",
    "    Arguments:\n",
    "    Output -- output of forward propagation (output of the last LINEAR unit), of shape (6, number of examples)\n",
    "    Y -- \"true\" labels vector placeholder, same shape as output\n",
    "    \n",
    "    Returns:\n",
    "    the coss entropy\n",
    "    \"\"\"\n",
    "    \n",
    "    # class number should be one hot encoded to fit tensorflow requirement\n",
    "    oneHotY = tf.one_hot(Y, depth=200)\n",
    "    \n",
    "    # to fit the tensorflow requirement for tf.nn.softmax_cross_entropy_with_logits(...,...)\n",
    "    logits = tf.transpose(networkOutput)\n",
    "    labels = tf.transpose(Y)\n",
    "    \n",
    "    return tf.nn.softmax_cross_entropy_with_logits_v2(logits= logits, labels= labels) "
   ]
  },
  {
   "cell_type": "markdown",
   "metadata": {},
   "source": [
    "# Sixth step: compute cost"
   ]
  },
  {
   "cell_type": "code",
   "execution_count": null,
   "metadata": {},
   "outputs": [],
   "source": [
    "def compute_cost(softmaxOutput):\n",
    "    \"\"\"\n",
    "    Computes the cost\n",
    "    \n",
    "    Arguments:\n",
    "    softmaxOutput -- output of the softmax layer\n",
    "    \n",
    "    Returns:\n",
    "    cost - Tensor of the cost function\n",
    "    \"\"\"\n",
    "    \n",
    "    ### START CODE HERE ### (1 line of code)\n",
    "    cost = tf.reduce_mean(softmaxOutput)\n",
    "    ### END CODE HERE ###\n",
    "    \n",
    "    return cost"
   ]
  },
  {
   "cell_type": "markdown",
   "metadata": {},
   "source": [
    "# Ten step: Choose your number of layers and train the model"
   ]
  },
  {
   "cell_type": "markdown",
   "metadata": {},
   "source": [
    "<img src=\"images/vgg_configurations.png\" style=\"width:520px;height:525px;\">"
   ]
  },
  {
   "cell_type": "code",
   "execution_count": null,
   "metadata": {},
   "outputs": [],
   "source": [
    "def get_parameters_configurationA():\n",
    "    filter_size_conv1 = 3\n",
    "    filter_size_conv2 = 3\n",
    "    filter_size_conv3 = 3\n",
    "    filter_size_conv3bis = 3\n",
    "    filter_size_conv4 = 3\n",
    "    filter_size_conv4bis = 3\n",
    "    filter_size_conv5 = 3\n",
    "    filter_size_conv5bis = 3\n",
    "    \n",
    "    num_filters_conv1 = 64\n",
    "    num_filters_conv2 = 128\n",
    "    num_filters_conv3 = 256\n",
    "    num_filters_conv3bis = 256\n",
    "    num_filters_conv4 = 512\n",
    "    num_filters_conv4bis = 512\n",
    "    num_filters_conv5 = 512\n",
    "    num_filters_conv5bis = 512\n",
    "    \n",
    "    size_pooling1 = [1, 2, 2, 1] \n",
    "    strides_pooling1 = [1, 2, 2, 1]\n",
    "    padding1 = 'SAME'\n",
    "    \n",
    "    parameters_pooling1 = {\n",
    "                            'size_pooling': size_pooling1,\n",
    "                            'strides_pooling': strides_pooling1,\n",
    "                            'padding': padding1\n",
    "                            }\n",
    "    \n",
    "    parameters_pooling2 = parameters_pooling1\n",
    "    parameters_pooling3 = parameters_pooling1\n",
    "    parameters_pooling4 = parameters_pooling1\n",
    "    parameters_pooling5 = parameters_pooling1\n",
    "    \n",
    "    num_filters_fc1 = 4096\n",
    "    num_filters_fc2 = 4096\n",
    "    num_output_class = 200\n",
    "    \n",
    "    parameters= {\n",
    "               'filter_size_conv1': filter_size_conv1,\n",
    "               'filter_size_conv2': filter_size_conv2,\n",
    "               'filter_size_conv3': filter_size_conv3,\n",
    "               'filter_size_conv3bis': filter_size_conv3bis,\n",
    "               'filter_size_conv4': filter_size_conv4,\n",
    "               'filter_size_conv4bis': filter_size_conv4bis,\n",
    "               'filter_size_conv5': filter_size_conv5,\n",
    "               'filter_size_conv5bis': filter_size_conv5bis,\n",
    "               'num_filters_conv1': num_filters_conv1,\n",
    "               'num_filters_conv2': num_filters_conv2,\n",
    "               'num_filters_conv3': num_filters_conv3,\n",
    "               'num_filters_conv3bis': num_filters_conv3bis,\n",
    "               'num_filters_conv4': num_filters_conv4,\n",
    "               'num_filters_conv4bis': num_filters_conv4bis,\n",
    "               'num_filters_conv5': num_filters_conv5,\n",
    "               'num_filters_conv5bis': num_filters_conv5bis,\n",
    "               'parameters_pooling1': parameters_pooling1,\n",
    "               'parameters_pooling2': parameters_pooling2,\n",
    "               'parameters_pooling3': parameters_pooling3,\n",
    "               'parameters_pooling4': parameters_pooling4,\n",
    "               'parameters_pooling5': parameters_pooling5,\n",
    "               'num_filters_fc1': num_filters_fc1,\n",
    "               'num_filters_fc2': num_filters_fc2,\n",
    "               'num_output_class': num_output_class\n",
    "    }\n",
    "    \n",
    "    return parameters"
   ]
  },
  {
   "cell_type": "code",
   "execution_count": null,
   "metadata": {},
   "outputs": [],
   "source": [
    "def configuration_A(X, parameters):\n",
    "    \n",
    "    filter_size_conv1 = parameters['filter_size_conv1']\n",
    "    filter_size_conv2 = parameters['filter_size_conv2']\n",
    "    filter_size_conv3 = parameters['filter_size_conv3']\n",
    "    filter_size_conv3bis = parameters['filter_size_conv3bis']\n",
    "    filter_size_conv4 = parameters['filter_size_conv4']\n",
    "    filter_size_conv4bis = parameters['filter_size_conv4bis']\n",
    "    filter_size_conv5 = parameters['filter_size_conv5']\n",
    "    filter_size_conv5bis = parameters['filter_size_conv5bis']\n",
    "    \n",
    "    num_filters_conv1 = parameters['num_filters_conv1']\n",
    "    num_filters_conv2 = parameters['num_filters_conv2']\n",
    "    num_filters_conv3 = parameters['num_filters_conv3']\n",
    "    num_filters_conv3bis = parameters['num_filters_conv3bis']\n",
    "    num_filters_conv4 = parameters['num_filters_conv4']\n",
    "    num_filters_conv4bis = parameters['num_filters_conv4bis']\n",
    "    num_filters_conv5 = parameters['num_filters_conv5']\n",
    "    num_filters_conv5bis = parameters['num_filters_conv5bis']\n",
    "    \n",
    "    parameters_pooling1 = parameters['parameters_pooling1']\n",
    "    parameters_pooling2 = parameters['parameters_pooling2']\n",
    "    parameters_pooling3 = parameters['parameters_pooling3']\n",
    "    parameters_pooling4 = parameters['parameters_pooling4']\n",
    "    parameters_pooling5 = parameters['parameters_pooling5']\n",
    "    \n",
    "    num_filters_fc1 = parameters['num_filters_fc1']\n",
    "    num_filters_fc2 = parameters['num_filters_fc2']\n",
    "    num_output_class = parameters['num_output_class']\n",
    "    \n",
    "    num_input_channels_conv1 = X.shape[3]\n",
    "    \n",
    "    layer_conv1 = create_convolutional_layer(input=X, conv_filter_size=filter_size_conv1, num_filters=num_filters_conv1, num_input_channels=num_input_channels_conv1, layer_number='1')\n",
    "    layer_maxpool1 = create_pooling_layer(input=layer_conv1, parameters=parameters_pooling1)\n",
    "    \n",
    "    layer_conv2 = create_convolutional_layer(input=layer_maxpool1, conv_filter_size=filter_size_conv2, num_filters=num_filters_conv2, num_input_channels=num_filters_conv1, layer_number='2')\n",
    "    layer_maxpool2 = create_pooling_layer(input=layer_conv2, parameters=parameters_pooling2)\n",
    "    \n",
    "    layer_conv3 = create_convolutional_layer(input=layer_maxpool2, conv_filter_size=filter_size_conv3, num_filters=num_filters_conv3, num_input_channels=num_filters_conv2, layer_number='3')\n",
    "    layer_conv3bis = create_convolutional_layer(input=layer_conv3, conv_filter_size=filter_size_conv3bis, num_filters=num_filters_conv3bis, num_input_channels=num_filters_conv3, layer_number='3bis')\n",
    "    layer_maxpool3 = create_pooling_layer(input=layer_conv3bis, parameters=parameters_pooling3)\n",
    "    \n",
    "    layer_conv4 = create_convolutional_layer(input=layer_maxpool3, conv_filter_size=filter_size_conv4, num_filters=num_filters_conv4, num_input_channels=num_filters_conv3bis, layer_number='4')\n",
    "    layer_conv4bis = create_convolutional_layer(input=layer_conv4, conv_filter_size=filter_size_conv4bis, num_filters=num_filters_conv4bis, num_input_channels=num_filters_conv4, layer_number='4bis')\n",
    "    layer_maxpool4 = create_pooling_layer(input=layer_conv4bis, parameters=parameters_pooling4)\n",
    "    \n",
    "    layer_conv5 = create_convolutional_layer(input=layer_maxpool4, conv_filter_size=filter_size_conv5, num_filters=num_filters_conv5, num_input_channels=num_filters_conv4bis, layer_number='5')\n",
    "    layer_conv5bis = create_convolutional_layer(input=layer_conv5, conv_filter_size=filter_size_conv5bis, num_filters=num_filters_conv5bis, num_input_channels=num_filters_conv5, layer_number='5bis')\n",
    "    layer_maxpool5 = create_pooling_layer(input=layer_conv5bis, parameters=parameters_pooling5)\n",
    "    layer_fc1 = create_fully_connected_layer(input=layer_maxpool5, num_input_channels=num_filters_conv5bis, num_output_channel=num_filters_fc1, layer_number='1')\n",
    "    layer_fc2 = create_fully_connected_layer(input=layer_fc1, num_input_channels=num_filters_fc1, num_output_channel=num_filters_fc2, layer_number='2')\n",
    "    layer_fc3 = create_fully_connected_layer(input=layer_fc2, num_input_channels=num_filters_fc2, num_output_channel=num_output_class, layer_number='3')\n",
    "    \n",
    "    return layer_fc3"
   ]
  },
  {
   "cell_type": "code",
   "execution_count": null,
   "metadata": {},
   "outputs": [],
   "source": [
    "def random_mini_batches(X, Y, mini_batch_size = 32, seed = 0):\n",
    "    \"\"\"\n",
    "    Creates a list of random minibatches from (X, Y)\n",
    "    \n",
    "    Arguments:\n",
    "    X -- input data, of shape (number of examples, img width, image height, number of channel)\n",
    "    Y -- true \"label\" vector (containing int number of the class value), of shape (number of examples, 1)\n",
    "    mini_batch_size - size of the mini-batches, integer\n",
    "    \n",
    "    Returns:\n",
    "    mini_batches -- list of synchronous (mini_batch_X, mini_batch_Y)\n",
    "    \"\"\"\n",
    "    \n",
    "    m = X.shape[0]                  # number of training examples\n",
    "    mini_batches = []\n",
    "    np.random.seed(seed)\n",
    "    \n",
    "    # Step 1: Shuffle (X, Y)\n",
    "    permutation = list(np.random.permutation(m))\n",
    "    shuffled_X = X[permutation, :, :, :]\n",
    "    shuffled_Y = Y[permutation, :].reshape((m, Y.shape[1]))\n",
    "\n",
    "    # Step 2: Partition (shuffled_X, shuffled_Y). Minus the end case.\n",
    "    num_complete_minibatches = math.floor(m/mini_batch_size) # number of mini batches of size mini_batch_size in your partitionning\n",
    "    for k in range(0, num_complete_minibatches):\n",
    "        mini_batch_X = shuffled_X[k * mini_batch_size : k * mini_batch_size + mini_batch_size, :, :, :]\n",
    "        mini_batch_Y = shuffled_Y[k * mini_batch_size : k * mini_batch_size + mini_batch_size, :]\n",
    "        mini_batch = (mini_batch_X, mini_batch_Y)\n",
    "        mini_batches.append(mini_batch)\n",
    "    \n",
    "    # Handling the end case (last mini-batch < mini_batch_size)\n",
    "    if m % mini_batch_size != 0:\n",
    "        mini_batch_X = shuffled_X[num_complete_minibatches * mini_batch_size : m, :, :, :]\n",
    "        mini_batch_Y = shuffled_Y[num_complete_minibatches * mini_batch_size : m, :]\n",
    "        mini_batch = (mini_batch_X, mini_batch_Y)\n",
    "        mini_batches.append(mini_batch)\n",
    "    \n",
    "    return mini_batches\n"
   ]
  },
  {
   "cell_type": "code",
   "execution_count": null,
   "metadata": {},
   "outputs": [],
   "source": [
    "def model(X_train, Y_train, learning_rate = 0.01, configuration= 'configuration_A',\n",
    "          num_epochs = 100, minibatch_size = 32, momentum = 0.9, use_nesterov = False, print_cost = True):\n",
    "    \"\"\"\n",
    "    Implements a three-layer tensorflow neural network: LINEAR->RELU->LINEAR->RELU->LINEAR->SOFTMAX.\n",
    "    \n",
    "    Arguments:\n",
    "    X_train -- training set, of shape (input size = 12288, number of training examples = 1080)\n",
    "    Y_train -- test set, of shape (output size = 6, number of training examples = 1080)\n",
    "    X_test -- training set, of shape (input size = 12288, number of training examples = 120)\n",
    "    Y_test -- test set, of shape (output size = 6, number of test examples = 120)\n",
    "    learning_rate -- learning rate of the optimization\n",
    "    num_epochs -- number of epochs of the optimization loop\n",
    "    minibatch_size -- size of a minibatch\n",
    "    print_cost -- True to print the cost every 100 epochs\n",
    "    \n",
    "    Returns:\n",
    "    parameters -- parameters learnt by the model. They can then be used to predict.\n",
    "    \"\"\"\n",
    "    \n",
    "    ops.reset_default_graph()                         # to be able to rerun the model without overwriting tf variables\n",
    "    tf.set_random_seed(1)                             # to keep consistent results\n",
    "    seed = 3                                          # to keep consistent results\n",
    "    (m, n_w, n_h, n_c) = X_train.shape                # (m : number of examples in the train set, n_w: image width, n_h: image height, n_c: number of image channel)\n",
    "    n_y = Y_train.shape[1]                            # n_y : output size\n",
    "    costs = []                                        # To keep track of the cost\n",
    "    \n",
    "    # Create Placeholders of shape (n_x, n_y)\n",
    "    X, Y = create_placeholders(img_size=n_w, num_channels=n_c, num_classes=n_y)\n",
    "    \n",
    "    # Forward propagation: Build the forward propagation in the tensorflow graph\n",
    "    if configuration == 'configuration_A':\n",
    "        parameters = get_parameters_configurationA()\n",
    "        configuration_output = configuration_A(X=X,parameters=parameters)\n",
    "    \n",
    "    #Create softmax layer\n",
    "    softmax_layer = create_softmax_layer(Y=Y, networkOutput=configuration_output)\n",
    "    \n",
    "    # Cost function: Add cost function to tensorflow graph\n",
    "    cost = compute_cost(softmaxOutput=softmax_layer)\n",
    "    \n",
    "    # Backpropagation: Define the tensorflow optimizer. Use an AdamOptimizer.\n",
    "    optimizer = tf.train.MomentumOptimizer(learning_rate=learning_rate, momentum=momentum, use_nesterov=use_nesterov).minimize(cost)\n",
    "    #optimizer = tf.train.AdamOptimizer(learning_rate=learning_rate).minimize(cost)\n",
    "    \n",
    "    # Initialize all the variables\n",
    "    init = tf.global_variables_initializer()\n",
    "\n",
    "    # Start the session to compute the tensorflow graph\n",
    "    with tf.Session() as sess:\n",
    "        \n",
    "        # Run the initialization\n",
    "        sess.run(init)\n",
    "        \n",
    "        # Do the training loop\n",
    "        for epoch in range(num_epochs):\n",
    "\n",
    "            epoch_cost = 0.                       # Defines a cost related to an epoch\n",
    "            num_minibatches = int(m / minibatch_size) # number of minibatches of size minibatch_size in the train set\n",
    "            seed = seed + 1\n",
    "            minibatches = random_mini_batches(X_train, Y_train, minibatch_size, seed)\n",
    "\n",
    "            for minibatch in minibatches:\n",
    "\n",
    "                # Select a minibatch\n",
    "                (minibatch_X, minibatch_Y) = minibatch\n",
    "                \n",
    "                # IMPORTANT: The line that runs the graph on a minibatch.\n",
    "                # Run the session to execute the \"optimizer\" and the \"cost\", the feedict should contain a minibatch for (X,Y).\n",
    "                _ , minibatch_cost = sess.run([optimizer, cost], feed_dict={X: minibatch_X, Y: minibatch_Y})\n",
    "                  \n",
    "                print(\"minibatch cost: %f\" % minibatch_cost )\n",
    "                epoch_cost += minibatch_cost / num_minibatches\n",
    "\n",
    "            # Print the cost every epoch\n",
    "            if print_cost == True and epoch % 1 == 0:\n",
    "                print (\"Cost after epoch %i: %f\" % (epoch, epoch_cost))\n",
    "            if print_cost == True and epoch % 5 == 0:\n",
    "                costs.append(epoch_cost)\n",
    "                \n",
    "        # plot the cost\n",
    "        plt.plot(np.squeeze(costs))\n",
    "        plt.ylabel('cost')\n",
    "        plt.xlabel('iterations (per tens)')\n",
    "        plt.title(\"Learning rate =\" + str(learning_rate))\n",
    "        plt.show()\n",
    "\n",
    "        # lets save the parameters in a variable\n",
    "        parameters = sess.run(parameters)\n",
    "        print (\"Parameters have been trained!\")\n",
    "\n",
    "        # Calculate the correct predictions\n",
    "        correct_prediction = tf.equal(tf.argmax(Z3), tf.argmax(Y))\n",
    "\n",
    "        # Calculate accuracy on the test set\n",
    "        accuracy = tf.reduce_mean(tf.cast(correct_prediction, \"float\"))\n",
    "\n",
    "        print (\"Train Accuracy:\", accuracy.eval({X: X_train, Y: Y_train}))\n",
    "        \n",
    "        return parameters"
   ]
  },
  {
   "cell_type": "code",
   "execution_count": null,
   "metadata": {},
   "outputs": [],
   "source": [
    "model(X_train=trainSet, Y_train=labelSet, configuration='configuration_A', momentum= 0.9, num_epochs=50,learning_rate=0.01, minibatch_size=32, use_nesterov=False, print_cost= True)\n",
    "\n"
   ]
  },
  {
   "cell_type": "code",
   "execution_count": null,
   "metadata": {},
   "outputs": [],
   "source": [
    "labelTrainSet[0]"
   ]
  },
  {
   "cell_type": "code",
   "execution_count": null,
   "metadata": {},
   "outputs": [],
   "source": []
  },
  {
   "cell_type": "code",
   "execution_count": null,
   "metadata": {},
   "outputs": [],
   "source": []
  },
  {
   "cell_type": "code",
   "execution_count": null,
   "metadata": {},
   "outputs": [],
   "source": []
  }
 ],
 "metadata": {
  "kernelspec": {
   "display_name": "Python 3",
   "language": "python",
   "name": "python3"
  },
  "language_info": {
   "codemirror_mode": {
    "name": "ipython",
    "version": 3
   },
   "file_extension": ".py",
   "mimetype": "text/x-python",
   "name": "python",
   "nbconvert_exporter": "python",
   "pygments_lexer": "ipython3",
   "version": "3.6.5"
  }
 },
 "nbformat": 4,
 "nbformat_minor": 2
}
