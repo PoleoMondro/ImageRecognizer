{
 "cells": [
  {
   "cell_type": "code",
   "execution_count": 131,
   "metadata": {},
   "outputs": [],
   "source": [
    "import pickle \n",
    "import numpy as np\n",
    "import pandas as pd\n",
    "import cv2\n",
    "import os\n",
    "%run functions.py "
   ]
  },
  {
   "cell_type": "markdown",
   "metadata": {},
   "source": [
    "# Get a dictionary which associate numClass to what is the class"
   ]
  },
  {
   "cell_type": "markdown",
   "metadata": {},
   "source": [
    "#### Get All number of classes availables"
   ]
  },
  {
   "cell_type": "code",
   "execution_count": 84,
   "metadata": {},
   "outputs": [],
   "source": [
    "with open('wnids.txt') as f:\n",
    "    content = f.readlines()\n",
    "lines = []\n",
    "for line in content:\n",
    "    lines.append(line[:-1])"
   ]
  },
  {
   "cell_type": "markdown",
   "metadata": {},
   "source": [
    "#### get the dic Class : {numClass : name of the class}"
   ]
  },
  {
   "cell_type": "code",
   "execution_count": 85,
   "metadata": {},
   "outputs": [],
   "source": [
    "with open('words.txt') as f:\n",
    "    content = f.readlines()\n",
    "    \n",
    "dicClasses = {}\n",
    "for line in content:\n",
    "    if line.split('\\t')[0] in lines:\n",
    "        classEl = line.split('\\t')\n",
    "        dicClasses[classEl[0]] = classEl[1][:-1]"
   ]
  },
  {
   "cell_type": "markdown",
   "metadata": {},
   "source": [
    "#### Save the dic"
   ]
  },
  {
   "cell_type": "raw",
   "metadata": {},
   "source": [
    "saveDic('dicClasses.pkl', dicClasses)"
   ]
  },
  {
   "cell_type": "markdown",
   "metadata": {},
   "source": [
    "#### To load the dic"
   ]
  },
  {
   "cell_type": "code",
   "execution_count": 86,
   "metadata": {},
   "outputs": [],
   "source": [
    "dicClasses = loadDic('dicClasses.pkl')"
   ]
  },
  {
   "cell_type": "markdown",
   "metadata": {},
   "source": [
    "#### Create a dic that map previous numClass to new numClass (between 0 and 200)"
   ]
  },
  {
   "cell_type": "code",
   "execution_count": 87,
   "metadata": {},
   "outputs": [],
   "source": [
    "dicClasses = loadDicClasses('dicClasses.pkl')\n",
    "mapClassesDic = {}\n",
    "newClass = 0 \n",
    "for key in dicClasses.keys():\n",
    "    mapClassesDic[key] = newClass\n",
    "    newClass +=1\n",
    "    "
   ]
  },
  {
   "cell_type": "raw",
   "metadata": {},
   "source": [
    "saveDic('mapClasses.pkl', mapClassesDic)"
   ]
  },
  {
   "cell_type": "markdown",
   "metadata": {},
   "source": [
    "#### Load dic mapClasses"
   ]
  },
  {
   "cell_type": "code",
   "execution_count": 88,
   "metadata": {},
   "outputs": [],
   "source": [
    "mapClassesDic = loadDic('mapClasses.pkl')"
   ]
  },
  {
   "cell_type": "markdown",
   "metadata": {},
   "source": [
    "# Get the dataset : One np.array corresponding to images, the other corresponding to the labels"
   ]
  },
  {
   "cell_type": "code",
   "execution_count": 89,
   "metadata": {},
   "outputs": [],
   "source": [
    "def getDataFromFolder(pathToFolder, classe, nbTrainImagesPerClass):\n",
    "    labels = np.ones(nbTrainImagesPerClass)*classe\n",
    "    images = np.ones((nbTrainImagesPerClass, 64, 64, 3))\n",
    "    \n",
    "    # Get all images name\n",
    "    imageNames = getAllFilenames(pathToFolder)\n",
    "    if len(imageNames)!=nbTrainImagesPerClass:\n",
    "        print('Pas 500 images, erreurs')\n",
    "        return 'error'\n",
    "    \n",
    "    # loop to read each image and put it into the np.array\n",
    "    ind = 0\n",
    "    for imageName in imageNames:\n",
    "        images[ind,:,:,:] = cv2.imread(pathToFolder+'/'+imageName)\n",
    "        ind += 1\n",
    "    return images, labels"
   ]
  },
  {
   "cell_type": "code",
   "execution_count": 90,
   "metadata": {},
   "outputs": [],
   "source": [
    "im, l = getDataFromFolder('train/n01443537/images', 1, 500)"
   ]
  },
  {
   "cell_type": "code",
   "execution_count": 140,
   "metadata": {},
   "outputs": [],
   "source": [
    "def getDataSet(nbTrainImagesPerClass, nbClass, mapClassesDic):\n",
    "    dataIm = np.zeros((nbClass*nbTrainImagesPerClass, 64, 64, 3))\n",
    "    labels = np.zeros(nbClass*nbTrainImagesPerClass)\n",
    "    \n",
    "    # getAllFolders\n",
    "    dirNames = getAllDirNames('train')\n",
    "    offset = 0\n",
    "    for dirName in dirNames:\n",
    "        classe = mapClassesDic[dirName]\n",
    "        imDir, labelDir = getDataFromFolder('train/'+dirName+'/images', classe, nbTrainImagesPerClass)\n",
    "        dataIm[offset*500:(offset+1)*500] = imDir\n",
    "        labels[offset*500:(offset+1)*500] = labelDir\n",
    "        offset +=1 \n",
    "    return dataIm, labels"
   ]
  },
  {
   "cell_type": "code",
   "execution_count": 141,
   "metadata": {},
   "outputs": [],
   "source": [
    "im, l = getDataSet(500, 200, mapClassesDic)"
   ]
  },
  {
   "cell_type": "code",
   "execution_count": null,
   "metadata": {},
   "outputs": [],
   "source": []
  },
  {
   "cell_type": "code",
   "execution_count": 151,
   "metadata": {},
   "outputs": [],
   "source": [
    "np.save('images.npy', im)"
   ]
  },
  {
   "cell_type": "code",
   "execution_count": 152,
   "metadata": {},
   "outputs": [],
   "source": [
    "np.save('labels.npy', l)"
   ]
  },
  {
   "cell_type": "code",
   "execution_count": null,
   "metadata": {},
   "outputs": [],
   "source": []
  }
 ],
 "metadata": {
  "kernelspec": {
   "display_name": "Python 3",
   "language": "python",
   "name": "python3"
  },
  "language_info": {
   "codemirror_mode": {
    "name": "ipython",
    "version": 3
   },
   "file_extension": ".py",
   "mimetype": "text/x-python",
   "name": "python",
   "nbconvert_exporter": "python",
   "pygments_lexer": "ipython3",
   "version": "3.6.4"
  }
 },
 "nbformat": 4,
 "nbformat_minor": 2
}
